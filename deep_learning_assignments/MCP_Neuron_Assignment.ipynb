{
 "cells": [
  {
   "cell_type": "code",
   "execution_count": null,
   "id": "69dd2595-659b-45c6-859a-5f941fc41be6",
   "metadata": {},
   "outputs": [],
   "source": [
    "## mcp neuron(McCulloch and Walter Pitts)"
   ]
  },
  {
   "cell_type": "code",
   "execution_count": 1,
   "id": "faf78187-04cf-4587-aae8-2b0ce0410cfc",
   "metadata": {},
   "outputs": [],
   "source": [
    "def mcp_neuron(inputs, weights, threshold, operation):\n",
    "    if operation == 'and':\n",
    "        result = all(x >= w for x, w in zip(inputs, weights))\n",
    "    elif operation == 'or':\n",
    "        result = any(x >= w for x, w in zip(inputs, weights))\n",
    "    else:\n",
    "        raise ValueError(\"Invalid operation. Please choose 'and' or 'or'.\")\n",
    "\n",
    "\n",
    "    return 1 if result >= threshold else 0"
   ]
  },
  {
   "cell_type": "code",
   "execution_count": 4,
   "id": "c6b5dec0-4a0a-47db-8d02-ba8ed8b99662",
   "metadata": {},
   "outputs": [
    {
     "data": {
      "text/plain": [
       "1"
      ]
     },
     "execution_count": 4,
     "metadata": {},
     "output_type": "execute_result"
    }
   ],
   "source": [
    "mcp_neuron([0,1],[1,1],1,\"or\")"
   ]
  },
  {
   "cell_type": "code",
   "execution_count": null,
   "id": "8db47073-a09d-4457-bb6b-07ebb2dd96f3",
   "metadata": {},
   "outputs": [],
   "source": []
  }
 ],
 "metadata": {
  "kernelspec": {
   "display_name": "Python 3 (ipykernel)",
   "language": "python",
   "name": "python3"
  },
  "language_info": {
   "codemirror_mode": {
    "name": "ipython",
    "version": 3
   },
   "file_extension": ".py",
   "mimetype": "text/x-python",
   "name": "python",
   "nbconvert_exporter": "python",
   "pygments_lexer": "ipython3",
   "version": "3.11.7"
  }
 },
 "nbformat": 4,
 "nbformat_minor": 5
}
